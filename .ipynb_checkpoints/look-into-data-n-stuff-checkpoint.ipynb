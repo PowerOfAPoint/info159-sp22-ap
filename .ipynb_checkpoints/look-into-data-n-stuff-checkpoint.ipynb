{
 "cells": [
  {
   "cell_type": "code",
   "execution_count": 8,
   "metadata": {
    "pycharm": {
     "is_executing": true
    },
    "scrolled": true
   },
   "outputs": [],
   "source": [
    "import gzip\n",
    "import requests\n",
    "import random\n",
    "import numpy as np\n",
    "import pandas as pd"
   ]
  },
  {
   "cell_type": "markdown",
   "metadata": {},
   "source": [
    "r/news:"
   ]
  },
  {
   "cell_type": "code",
   "execution_count": null,
   "metadata": {
    "pycharm": {
     "is_executing": true
    }
   },
   "outputs": [],
   "source": [
    "sub = 'news'\n",
    "size = 500\n",
    "after = [1615766400, # March 15, 2021 12:00:00 AM GMT\n",
    "         1611964800, # January 30, 2021 12:00:00 AM GMT\n",
    "         1626566400, # July 18, 2021 12:00:00 AM GMT\n",
    "         1609891200, # January 6, 2021 12:00:00 AM GMT\n",
    "         1616198400, # March 20, 2021 12:00:00 AM GMT\n",
    "         1637452800, # November 21, 2021 12:00:00 AM GMT\n",
    "         1634774400, # October 21, 2021 12:00:00 AM GMT\n",
    "         1640390400, # December 25, 2021 12:00:00 AM GMT\n",
    "         1627516800, # July 29, 2021 12:00:00 AM GMT\n",
    "         1628380800, # August 8, 2021 12:00:00 AM GMT\n",
    "         1626220800, # July 14, 2021 12:00:00 AM GMT\n",
    "         1610582400, # January 14, 2021 12:00:00 AM GMT\n",
    "         1613779200, # February 20, 2021 12:00:00 AM GMT\n",
    "         1618704000, # April 18, 2021 12:00:00 AM GMT\n",
    "         1636156800 # November 6, 2021 12:00:00 AM GMT\n",
    "         ]"
   ]
  },
  {
   "cell_type": "code",
   "execution_count": null,
   "metadata": {
    "pycharm": {
     "is_executing": true
    }
   },
   "outputs": [],
   "source": [
    "rnews = pd.DataFrame(columns=['body'])\n",
    "\n",
    "for epoch in after:\n",
    "    url = f'https://api.pushshift.io/reddit/search/comment/?fields=body&subreddit={sub}&size={size}&after={epoch}'\n",
    "    rnews = pd.concat([rnews, pd.DataFrame.from_dict(requests.get(url).json()['data'])], ignore_index=True)"
   ]
  },
  {
   "cell_type": "code",
   "execution_count": null,
   "metadata": {
    "pycharm": {
     "is_executing": true
    }
   },
   "outputs": [],
   "source": [
    "rnews"
   ]
  },
  {
   "cell_type": "code",
   "execution_count": null,
   "metadata": {
    "pycharm": {
     "is_executing": true
    }
   },
   "outputs": [],
   "source": [
    "rnews_notdel = rnews.query('body not in [\"[removed]\", \"[deleted]\"]').reset_index().drop(columns=['index'])\n",
    "rnews_notdel"
   ]
  },
  {
   "cell_type": "code",
   "execution_count": null,
   "metadata": {
    "pycharm": {
     "is_executing": true
    }
   },
   "outputs": [],
   "source": [
    "compression_opts = dict(method='zip',\n",
    "                        archive_name='rnews_data.csv')\n",
    "rnews_notdel.to_csv('rnews_data.zip', index=False, compression=compression_opts)"
   ]
  },
  {
   "cell_type": "code",
   "execution_count": null,
   "metadata": {
    "collapsed": true,
    "pycharm": {
     "is_executing": true
    }
   },
   "outputs": [],
   "source": [
    "rnews = pd.read_csv('rnews_data.csv')\n",
    "rnews"
   ]
  },
  {
   "cell_type": "code",
   "execution_count": null,
   "metadata": {
    "pycharm": {
     "is_executing": true
    }
   },
   "outputs": [],
   "source": [
    "random.seed(1)\n",
    "n = rnews.shape[0]\n",
    "indices = random.sample(range(n), 30)\n",
    "rnews.iloc[indices].to_csv('rnews_sample30.txt', index=False)"
   ]
  },
  {
   "cell_type": "markdown",
   "metadata": {},
   "source": [
    "Amazon book reviews:"
   ]
  },
  {
   "cell_type": "code",
   "execution_count": null,
   "metadata": {
    "pycharm": {
     "is_executing": true
    }
   },
   "outputs": [],
   "source": [
    "with gzip.open('Kindle_Store_5.json.gz', 'rb') as f:\n",
    "    reviews_df = pd.read_json(f, orient='records', lines=True)"
   ]
  },
  {
   "cell_type": "code",
   "execution_count": null,
   "metadata": {
    "collapsed": true,
    "pycharm": {
     "is_executing": true
    }
   },
   "outputs": [],
   "source": [
    "random.seed(1)\n",
    "reviews_data = reviews_df[['reviewText']].iloc[random.sample(range(reviews_df.shape[0]), 1000)]\n",
    "reviews_data"
   ]
  },
  {
   "cell_type": "code",
   "execution_count": null,
   "metadata": {
    "pycharm": {
     "is_executing": true
    }
   },
   "outputs": [],
   "source": [
    "compression_opts = dict(method='zip',\n",
    "                        archive_name='reviews_data.csv')\n",
    "reviews_data.to_csv('reviews_data.zip', index=False, compression=compression_opts)"
   ]
  },
  {
   "cell_type": "code",
   "execution_count": null,
   "metadata": {
    "pycharm": {
     "is_executing": true
    }
   },
   "outputs": [],
   "source": [
    "random.seed(1)\n",
    "reviews_data.reset_index().drop(\n",
    "        columns=['index']\n",
    "    ).iloc[random.sample(range(1000), 20)].to_csv(\n",
    "        'reviews_sample30.csv', index=False\n",
    "    )"
   ]
  },
  {
   "cell_type": "markdown",
   "metadata": {},
   "source": [
    "Annotation (AP2):"
   ]
  },
  {
   "cell_type": "code",
   "execution_count": null,
   "metadata": {
    "pycharm": {
     "is_executing": true
    }
   },
   "outputs": [],
   "source": [
    "import zipfile\n",
    "\n",
    "with zipfile.ZipFile('data/reviews_data.zip', 'r') as z:\n",
    "    with z.open('reviews_data.csv') as f:\n",
    "        reviews_data = pd.read_csv(f)"
   ]
  },
  {
   "cell_type": "code",
   "execution_count": null,
   "metadata": {
    "collapsed": true,
    "pycharm": {
     "is_executing": true
    }
   },
   "outputs": [],
   "source": [
    "reviews_data"
   ]
  },
  {
   "cell_type": "code",
   "execution_count": null,
   "metadata": {
    "pycharm": {
     "is_executing": true
    }
   },
   "outputs": [],
   "source": [
    "reviews_eval = pd.read_csv('data/reviews_eval_adj.csv')\n",
    "reviews_exp = pd.read_csv('data/reviews_exp_adj.csv').convert_dtypes()"
   ]
  },
  {
   "cell_type": "code",
   "execution_count": null,
   "metadata": {
    "pycharm": {
     "is_executing": true
    }
   },
   "outputs": [],
   "source": [
    "display(reviews_eval.head())\n",
    "display(reviews_exp.head())"
   ]
  },
  {
   "cell_type": "code",
   "execution_count": null,
   "metadata": {
    "pycharm": {
     "is_executing": true
    }
   },
   "outputs": [],
   "source": [
    "reviews_annotated = pd.concat([reviews_eval, reviews_exp], ignore_index=True)"
   ]
  },
  {
   "cell_type": "code",
   "execution_count": null,
   "metadata": {
    "pycharm": {
     "is_executing": true
    }
   },
   "outputs": [],
   "source": [
    "reviews_annotated.value_counts('adjudicated')"
   ]
  },
  {
   "cell_type": "code",
   "execution_count": null,
   "metadata": {
    "pycharm": {
     "is_executing": true
    }
   },
   "outputs": [],
   "source": [
    "adjudicated = reviews_annotated[['text', 'adjudicated']].melt(\n",
    "        id_vars=['text'], \n",
    "        value_vars=['adjudicated'], \n",
    "        var_name='adjudicated'\n",
    "    ).rename(\n",
    "        columns={'value': 'label'}\n",
    "    )[['adjudicated', 'label', 'text']]"
   ]
  },
  {
   "cell_type": "code",
   "execution_count": null,
   "metadata": {
    "pycharm": {
     "is_executing": true
    }
   },
   "outputs": [],
   "source": [
    "adjudicated.to_csv('data/adjudicated.txt', sep='\\t', header=False)"
   ]
  },
  {
   "cell_type": "code",
   "execution_count": null,
   "metadata": {
    "pycharm": {
     "is_executing": true
    }
   },
   "outputs": [],
   "source": [
    "individual_annotations = reviews_eval[['text', 'stalebi', 'zhossainzadeh']].reset_index().melt(\n",
    "        id_vars=['index', 'text'],\n",
    "        value_vars=['stalebi', 'zhossainzadeh'],\n",
    "        var_name='annotator'\n",
    "    ).sort_values(\n",
    "        'index', \n",
    "        ignore_index=True\n",
    "    ).rename(\n",
    "        columns={'value': 'label'}\n",
    "    )[['index', 'annotator', 'label', 'text']]"
   ]
  },
  {
   "cell_type": "code",
   "execution_count": null,
   "metadata": {
    "pycharm": {
     "is_executing": true
    }
   },
   "outputs": [],
   "source": [
    "individual_annotations"
   ]
  },
  {
   "cell_type": "code",
   "execution_count": null,
   "metadata": {
    "pycharm": {
     "is_executing": true
    }
   },
   "outputs": [],
   "source": [
    "individual_annotations.to_csv('data/individual_annotations.txt', sep='\\t', index=False, header=False)"
   ]
  },
  {
   "cell_type": "markdown",
   "metadata": {},
   "source": [
    "AP3:"
   ]
  },
  {
   "cell_type": "code",
   "execution_count": 9,
   "metadata": {
    "pycharm": {
     "is_executing": true
    }
   },
   "outputs": [],
   "source": [
    "ap3_annotated = pd.read_csv('data/3034029249.txt', sep='\\t')"
   ]
  },
  {
   "cell_type": "code",
   "execution_count": 10,
   "metadata": {
    "pycharm": {
     "is_executing": true
    }
   },
   "outputs": [
    {
     "data": {
      "text/html": [
       "<div>\n",
       "<style scoped>\n",
       "    .dataframe tbody tr th:only-of-type {\n",
       "        vertical-align: middle;\n",
       "    }\n",
       "\n",
       "    .dataframe tbody tr th {\n",
       "        vertical-align: top;\n",
       "    }\n",
       "\n",
       "    .dataframe thead th {\n",
       "        text-align: right;\n",
       "    }\n",
       "</style>\n",
       "<table border=\"1\" class=\"dataframe\">\n",
       "  <thead>\n",
       "    <tr style=\"text-align: right;\">\n",
       "      <th></th>\n",
       "      <th>data ID</th>\n",
       "      <th>annotator</th>\n",
       "      <th>label</th>\n",
       "      <th>text</th>\n",
       "    </tr>\n",
       "  </thead>\n",
       "  <tbody>\n",
       "    <tr>\n",
       "      <th>0</th>\n",
       "      <td>522</td>\n",
       "      <td>3034029249</td>\n",
       "      <td>NaN</td>\n",
       "      <td>Perfect in a steaming cup of cocoa, as a toppi...</td>\n",
       "    </tr>\n",
       "    <tr>\n",
       "      <th>1</th>\n",
       "      <td>927</td>\n",
       "      <td>3034029249</td>\n",
       "      <td>NaN</td>\n",
       "      <td>Forty years of coffee-roasting expertise inspi...</td>\n",
       "    </tr>\n",
       "    <tr>\n",
       "      <th>2</th>\n",
       "      <td>696</td>\n",
       "      <td>3034029249</td>\n",
       "      <td>NaN</td>\n",
       "      <td>Wholesome Fair Trade Organic Cane Sugar is mad...</td>\n",
       "    </tr>\n",
       "    <tr>\n",
       "      <th>3</th>\n",
       "      <td>724</td>\n",
       "      <td>3034029249</td>\n",
       "      <td>NaN</td>\n",
       "      <td>Quality and value since 1930. Artificially fla...</td>\n",
       "    </tr>\n",
       "    <tr>\n",
       "      <th>4</th>\n",
       "      <td>716</td>\n",
       "      <td>3034029249</td>\n",
       "      <td>NaN</td>\n",
       "      <td>Nuts are the heroes of wholesome snacking. And...</td>\n",
       "    </tr>\n",
       "    <tr>\n",
       "      <th>...</th>\n",
       "      <td>...</td>\n",
       "      <td>...</td>\n",
       "      <td>...</td>\n",
       "      <td>...</td>\n",
       "    </tr>\n",
       "    <tr>\n",
       "      <th>95</th>\n",
       "      <td>510</td>\n",
       "      <td>3034029249</td>\n",
       "      <td>NaN</td>\n",
       "      <td>Freshly milled on cool and slow turning, centu...</td>\n",
       "    </tr>\n",
       "    <tr>\n",
       "      <th>96</th>\n",
       "      <td>643</td>\n",
       "      <td>3034029249</td>\n",
       "      <td>NaN</td>\n",
       "      <td>Pacific Foods Enriched Soy Beverage is great-t...</td>\n",
       "    </tr>\n",
       "    <tr>\n",
       "      <th>97</th>\n",
       "      <td>644</td>\n",
       "      <td>3034029249</td>\n",
       "      <td>NaN</td>\n",
       "      <td>Oven-Toasted Corn Cereal. Provides 12 essentia...</td>\n",
       "    </tr>\n",
       "    <tr>\n",
       "      <th>98</th>\n",
       "      <td>998</td>\n",
       "      <td>3034029249</td>\n",
       "      <td>NaN</td>\n",
       "      <td>It's funny how something as simple as a bowl o...</td>\n",
       "    </tr>\n",
       "    <tr>\n",
       "      <th>99</th>\n",
       "      <td>908</td>\n",
       "      <td>3034029249</td>\n",
       "      <td>NaN</td>\n",
       "      <td>This creamy, delicious milk chocolate with cru...</td>\n",
       "    </tr>\n",
       "  </tbody>\n",
       "</table>\n",
       "<p>100 rows × 4 columns</p>\n",
       "</div>"
      ],
      "text/plain": [
       "    data ID   annotator  label  \\\n",
       "0       522  3034029249    NaN   \n",
       "1       927  3034029249    NaN   \n",
       "2       696  3034029249    NaN   \n",
       "3       724  3034029249    NaN   \n",
       "4       716  3034029249    NaN   \n",
       "..      ...         ...    ...   \n",
       "95      510  3034029249    NaN   \n",
       "96      643  3034029249    NaN   \n",
       "97      644  3034029249    NaN   \n",
       "98      998  3034029249    NaN   \n",
       "99      908  3034029249    NaN   \n",
       "\n",
       "                                                 text  \n",
       "0   Perfect in a steaming cup of cocoa, as a toppi...  \n",
       "1   Forty years of coffee-roasting expertise inspi...  \n",
       "2   Wholesome Fair Trade Organic Cane Sugar is mad...  \n",
       "3   Quality and value since 1930. Artificially fla...  \n",
       "4   Nuts are the heroes of wholesome snacking. And...  \n",
       "..                                                ...  \n",
       "95  Freshly milled on cool and slow turning, centu...  \n",
       "96  Pacific Foods Enriched Soy Beverage is great-t...  \n",
       "97  Oven-Toasted Corn Cereal. Provides 12 essentia...  \n",
       "98  It's funny how something as simple as a bowl o...  \n",
       "99  This creamy, delicious milk chocolate with cru...  \n",
       "\n",
       "[100 rows x 4 columns]"
      ]
     },
     "execution_count": 10,
     "metadata": {},
     "output_type": "execute_result"
    }
   ],
   "source": [
    "ap3_annotated"
   ]
  },
  {
   "cell_type": "code",
   "execution_count": 65,
   "metadata": {
    "pycharm": {
     "is_executing": true
    }
   },
   "outputs": [],
   "source": [
    "labels_dict = {\n",
    "    1: 'health',\n",
    "    2: 'versatility',\n",
    "    3: 'gourmet experience',\n",
    "    4: 'convenience',\n",
    "    5: 'taste'\n",
    "}"
   ]
  },
  {
   "cell_type": "code",
   "execution_count": 79,
   "metadata": {
    "pycharm": {
     "is_executing": true
    },
    "scrolled": true
   },
   "outputs": [
    {
     "data": {
      "text/plain": [
       "\"Grey Poupon Dijon Mustard - Everyday mustard, lavished with extraordinary twist of white wine. The citrusy, fruity aroma of white wine fused with earthy herbs and spices when harmonize with the finest brown mustard seeds create a flavor you'd succumb to!Make your Food more ScrumptiousWhether you're at the ballpark, or in your own kitchen, your sandwich is not complete without Grey Poupon Deli Mustard. It complements the rich flavors and more with its intensely sharp, uniquely\""
      ]
     },
     "execution_count": 79,
     "metadata": {},
     "output_type": "execute_result"
    }
   ],
   "source": [
    "i = 72\n",
    "ap3_annotated.loc[i]['text']"
   ]
  },
  {
   "cell_type": "code",
   "execution_count": 77,
   "metadata": {
    "pycharm": {
     "is_executing": true
    }
   },
   "outputs": [],
   "source": [
    "labels_val = [\n",
    "    2,\n",
    "    5,\n",
    "    3,\n",
    "    5,\n",
    "    1,\n",
    "    5,\n",
    "    1,\n",
    "    5,\n",
    "    1,\n",
    "    5,\n",
    "    1,\n",
    "    2,\n",
    "    5,\n",
    "    2,\n",
    "    4,\n",
    "    5,\n",
    "    3,\n",
    "    3,\n",
    "    5,\n",
    "    5,\n",
    "    5,\n",
    "    1,\n",
    "    5,\n",
    "    4,\n",
    "    1,\n",
    "    3,\n",
    "    2,\n",
    "    5,\n",
    "    3,\n",
    "    5,\n",
    "    2,\n",
    "    2,\n",
    "    1,\n",
    "    5,\n",
    "    5,\n",
    "    5,\n",
    "    5,\n",
    "    3,\n",
    "    5,\n",
    "    2,\n",
    "    5,\n",
    "    5,\n",
    "    3,\n",
    "    5,\n",
    "    3,\n",
    "    1,\n",
    "    3,\n",
    "    5,\n",
    "    2,\n",
    "    5,\n",
    "    1,\n",
    "    3,\n",
    "    1,\n",
    "    5,\n",
    "    3,\n",
    "    2,\n",
    "    1,\n",
    "    1,\n",
    "    3,\n",
    "    3,\n",
    "    1,\n",
    "    5,\n",
    "    5,\n",
    "    5,\n",
    "    2,\n",
    "    3,\n",
    "    3,\n",
    "    3,\n",
    "    3,\n",
    "    1,\n",
    "    1,\n",
    "    4\n",
    "]"
   ]
  },
  {
   "cell_type": "code",
   "execution_count": 78,
   "metadata": {
    "pycharm": {
     "is_executing": true
    }
   },
   "outputs": [
    {
     "data": {
      "text/plain": [
       "72"
      ]
     },
     "execution_count": 78,
     "metadata": {},
     "output_type": "execute_result"
    }
   ],
   "source": [
    "len(labels_val)"
   ]
  },
  {
   "cell_type": "code",
   "execution_count": null,
   "metadata": {
    "pycharm": {
     "is_executing": true
    }
   },
   "outputs": [],
   "source": [
    "ap3_annotated['label'] = pd.Series(labels)\n",
    "ap3_annotated"
   ]
  },
  {
   "cell_type": "code",
   "execution_count": null,
   "metadata": {
    "pycharm": {
     "is_executing": true
    }
   },
   "outputs": [],
   "source": []
  }
 ],
 "metadata": {
  "kernelspec": {
   "display_name": "PyCharm (q1)",
   "language": "python",
   "name": "pycharm-3e22716c"
  },
  "language_info": {
   "codemirror_mode": {
    "name": "ipython",
    "version": 3
   },
   "file_extension": ".py",
   "mimetype": "text/x-python",
   "name": "python",
   "nbconvert_exporter": "python",
   "pygments_lexer": "ipython3",
   "version": "3.7.3"
  }
 },
 "nbformat": 4,
 "nbformat_minor": 1
}
