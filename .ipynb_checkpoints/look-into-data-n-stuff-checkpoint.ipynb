{
 "cells": [
  {
   "cell_type": "code",
   "execution_count": 4,
   "metadata": {
    "pycharm": {
     "is_executing": true
    }
   },
   "outputs": [],
   "source": [
    "import gzip\n",
    "import requests\n",
    "import random\n",
    "import pandas as pd"
   ]
  },
  {
   "cell_type": "markdown",
   "metadata": {},
   "source": [
    "r/news:"
   ]
  },
  {
   "cell_type": "code",
   "execution_count": 5,
   "metadata": {
    "pycharm": {
     "is_executing": true
    }
   },
   "outputs": [],
   "source": [
    "sub = 'news'\n",
    "size = 500\n",
    "after = [1615766400, # March 15, 2021 12:00:00 AM GMT\n",
    "         1611964800, # January 30, 2021 12:00:00 AM GMT\n",
    "         1626566400, # July 18, 2021 12:00:00 AM GMT\n",
    "         1609891200, # January 6, 2021 12:00:00 AM GMT\n",
    "         1616198400, # March 20, 2021 12:00:00 AM GMT\n",
    "         1637452800, # November 21, 2021 12:00:00 AM GMT\n",
    "         1634774400, # October 21, 2021 12:00:00 AM GMT\n",
    "         1640390400, # December 25, 2021 12:00:00 AM GMT\n",
    "         1627516800, # July 29, 2021 12:00:00 AM GMT\n",
    "         1628380800, # August 8, 2021 12:00:00 AM GMT\n",
    "         1626220800, # July 14, 2021 12:00:00 AM GMT\n",
    "         1610582400, # January 14, 2021 12:00:00 AM GMT\n",
    "         1613779200, # February 20, 2021 12:00:00 AM GMT\n",
    "         1618704000, # April 18, 2021 12:00:00 AM GMT\n",
    "         1636156800 # November 6, 2021 12:00:00 AM GMT\n",
    "         ]"
   ]
  },
  {
   "cell_type": "code",
   "execution_count": null,
   "metadata": {
    "pycharm": {
     "is_executing": true
    }
   },
   "outputs": [],
   "source": [
    "rnews = pd.DataFrame(columns=['body'])\n",
    "\n",
    "for epoch in after:\n",
    "    url = f'https://api.pushshift.io/reddit/search/comment/?fields=body&subreddit={sub}&size={size}&after={epoch}'\n",
    "    rnews = pd.concat([rnews, pd.DataFrame.from_dict(requests.get(url).json()['data'])], ignore_index=True)"
   ]
  },
  {
   "cell_type": "code",
   "execution_count": null,
   "metadata": {
    "pycharm": {
     "is_executing": true
    }
   },
   "outputs": [],
   "source": [
    "rnews"
   ]
  },
  {
   "cell_type": "code",
   "execution_count": null,
   "metadata": {
    "pycharm": {
     "is_executing": true
    }
   },
   "outputs": [],
   "source": [
    "rnews_notdel = rnews.query('body not in [\"[removed]\", \"[deleted]\"]').reset_index().drop(columns=['index'])\n",
    "rnews_notdel"
   ]
  },
  {
   "cell_type": "code",
   "execution_count": null,
   "metadata": {
    "pycharm": {
     "is_executing": true
    }
   },
   "outputs": [],
   "source": [
    "compression_opts = dict(method='zip',\n",
    "                        archive_name='rnews_data.csv')\n",
    "rnews_notdel.to_csv('rnews_data.zip', index=False, compression=compression_opts)"
   ]
  },
  {
   "cell_type": "code",
   "execution_count": null,
   "metadata": {
    "collapsed": true,
    "pycharm": {
     "is_executing": true
    }
   },
   "outputs": [],
   "source": [
    "rnews = pd.read_csv('rnews_data.csv')\n",
    "rnews"
   ]
  },
  {
   "cell_type": "code",
   "execution_count": null,
   "metadata": {
    "pycharm": {
     "is_executing": true
    }
   },
   "outputs": [],
   "source": [
    "random.seed(1)\n",
    "n = rnews.shape[0]\n",
    "indices = random.sample(range(n), 30)\n",
    "rnews.iloc[indices].to_csv('rnews_sample30.txt', index=False)"
   ]
  },
  {
   "cell_type": "markdown",
   "metadata": {},
   "source": [
    "Amazon book reviews:"
   ]
  },
  {
   "cell_type": "code",
   "execution_count": null,
   "metadata": {
    "pycharm": {
     "is_executing": true
    }
   },
   "outputs": [],
   "source": [
    "with gzip.open('Kindle_Store_5.json.gz', 'rb') as f:\n",
    "    reviews_df = pd.read_json(f)"
   ]
  },
  {
   "cell_type": "code",
   "execution_count": null,
   "metadata": {},
   "outputs": [],
   "source": []
  }
 ],
 "metadata": {
  "kernelspec": {
   "display_name": "Python 3 (ipykernel)",
   "language": "python",
   "name": "python3"
  },
  "language_info": {
   "codemirror_mode": {
    "name": "ipython",
    "version": 3
   },
   "file_extension": ".py",
   "mimetype": "text/x-python",
   "name": "python",
   "nbconvert_exporter": "python",
   "pygments_lexer": "ipython3",
   "version": "3.7.3"
  }
 },
 "nbformat": 4,
 "nbformat_minor": 1
}
