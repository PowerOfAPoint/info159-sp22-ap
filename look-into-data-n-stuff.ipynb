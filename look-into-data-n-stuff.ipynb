{
 "cells": [
  {
   "cell_type": "code",
   "execution_count": 8,
   "metadata": {
    "scrolled": true
   },
   "outputs": [],
   "source": [
    "import gzip\n",
    "import requests\n",
    "import random\n",
    "import numpy as np\n",
    "import pandas as pd"
   ]
  },
  {
   "cell_type": "markdown",
   "metadata": {},
   "source": [
    "r/news:"
   ]
  },
  {
   "cell_type": "code",
   "execution_count": 2,
   "metadata": {},
   "outputs": [],
   "source": [
    "sub = 'news'\n",
    "size = 500\n",
    "after = [1615766400, # March 15, 2021 12:00:00 AM GMT\n",
    "         1611964800, # January 30, 2021 12:00:00 AM GMT\n",
    "         1626566400, # July 18, 2021 12:00:00 AM GMT\n",
    "         1609891200, # January 6, 2021 12:00:00 AM GMT\n",
    "         1616198400, # March 20, 2021 12:00:00 AM GMT\n",
    "         1637452800, # November 21, 2021 12:00:00 AM GMT\n",
    "         1634774400, # October 21, 2021 12:00:00 AM GMT\n",
    "         1640390400, # December 25, 2021 12:00:00 AM GMT\n",
    "         1627516800, # July 29, 2021 12:00:00 AM GMT\n",
    "         1628380800, # August 8, 2021 12:00:00 AM GMT\n",
    "         1626220800, # July 14, 2021 12:00:00 AM GMT\n",
    "         1610582400, # January 14, 2021 12:00:00 AM GMT\n",
    "         1613779200, # February 20, 2021 12:00:00 AM GMT\n",
    "         1618704000, # April 18, 2021 12:00:00 AM GMT\n",
    "         1636156800 # November 6, 2021 12:00:00 AM GMT\n",
    "         ]"
   ]
  },
  {
   "cell_type": "code",
   "execution_count": null,
   "metadata": {
    "pycharm": {
     "is_executing": true
    }
   },
   "outputs": [],
   "source": [
    "rnews = pd.DataFrame(columns=['body'])\n",
    "\n",
    "for epoch in after:\n",
    "    url = f'https://api.pushshift.io/reddit/search/comment/?fields=body&subreddit={sub}&size={size}&after={epoch}'\n",
    "    rnews = pd.concat([rnews, pd.DataFrame.from_dict(requests.get(url).json()['data'])], ignore_index=True)"
   ]
  },
  {
   "cell_type": "code",
   "execution_count": null,
   "metadata": {
    "pycharm": {
     "is_executing": true
    }
   },
   "outputs": [],
   "source": [
    "rnews"
   ]
  },
  {
   "cell_type": "code",
   "execution_count": null,
   "metadata": {
    "pycharm": {
     "is_executing": true
    }
   },
   "outputs": [],
   "source": [
    "rnews_notdel = rnews.query('body not in [\"[removed]\", \"[deleted]\"]').reset_index().drop(columns=['index'])\n",
    "rnews_notdel"
   ]
  },
  {
   "cell_type": "code",
   "execution_count": null,
   "metadata": {
    "pycharm": {
     "is_executing": true
    }
   },
   "outputs": [],
   "source": [
    "compression_opts = dict(method='zip',\n",
    "                        archive_name='rnews_data.csv')\n",
    "rnews_notdel.to_csv('rnews_data.zip', index=False, compression=compression_opts)"
   ]
  },
  {
   "cell_type": "code",
   "execution_count": null,
   "metadata": {
    "collapsed": true,
    "pycharm": {
     "is_executing": true
    }
   },
   "outputs": [],
   "source": [
    "rnews = pd.read_csv('rnews_data.csv')\n",
    "rnews"
   ]
  },
  {
   "cell_type": "code",
   "execution_count": null,
   "metadata": {
    "pycharm": {
     "is_executing": true
    }
   },
   "outputs": [],
   "source": [
    "random.seed(1)\n",
    "n = rnews.shape[0]\n",
    "indices = random.sample(range(n), 30)\n",
    "rnews.iloc[indices].to_csv('rnews_sample30.txt', index=False)"
   ]
  },
  {
   "cell_type": "markdown",
   "metadata": {},
   "source": [
    "Amazon book reviews:"
   ]
  },
  {
   "cell_type": "code",
   "execution_count": null,
   "metadata": {
    "pycharm": {
     "is_executing": true
    }
   },
   "outputs": [],
   "source": [
    "with gzip.open('Kindle_Store_5.json.gz', 'rb') as f:\n",
    "    reviews_df = pd.read_json(f, orient='records', lines=True)"
   ]
  },
  {
   "cell_type": "code",
   "execution_count": null,
   "metadata": {
    "collapsed": true,
    "pycharm": {
     "is_executing": true
    }
   },
   "outputs": [],
   "source": [
    "random.seed(1)\n",
    "reviews_data = reviews_df[['reviewText']].iloc[random.sample(range(reviews_df.shape[0]), 1000)]\n",
    "reviews_data"
   ]
  },
  {
   "cell_type": "code",
   "execution_count": null,
   "metadata": {
    "pycharm": {
     "is_executing": true
    }
   },
   "outputs": [],
   "source": [
    "compression_opts = dict(method='zip',\n",
    "                        archive_name='reviews_data.csv')\n",
    "reviews_data.to_csv('reviews_data.zip', index=False, compression=compression_opts)"
   ]
  },
  {
   "cell_type": "code",
   "execution_count": null,
   "metadata": {
    "pycharm": {
     "is_executing": true
    }
   },
   "outputs": [],
   "source": [
    "random.seed(1)\n",
    "reviews_data.reset_index().drop(\n",
    "        columns=['index']\n",
    "    ).iloc[random.sample(range(1000), 20)].to_csv(\n",
    "        'reviews_sample30.csv', index=False\n",
    "    )"
   ]
  },
  {
   "cell_type": "markdown",
   "metadata": {},
   "source": [
    "Annotation (AP2):"
   ]
  },
  {
   "cell_type": "code",
   "execution_count": null,
   "metadata": {
    "pycharm": {
     "is_executing": true
    }
   },
   "outputs": [],
   "source": [
    "import zipfile\n",
    "\n",
    "with zipfile.ZipFile('data/reviews_data.zip', 'r') as z:\n",
    "    with z.open('reviews_data.csv') as f:\n",
    "        reviews_data = pd.read_csv(f)"
   ]
  },
  {
   "cell_type": "code",
   "execution_count": null,
   "metadata": {
    "collapsed": true,
    "pycharm": {
     "is_executing": true
    }
   },
   "outputs": [],
   "source": [
    "reviews_data"
   ]
  },
  {
   "cell_type": "code",
   "execution_count": null,
   "metadata": {
    "pycharm": {
     "is_executing": true
    }
   },
   "outputs": [],
   "source": [
    "reviews_eval = pd.read_csv('data/reviews_eval_adj.csv')\n",
    "reviews_exp = pd.read_csv('data/reviews_exp_adj.csv').convert_dtypes()"
   ]
  },
  {
   "cell_type": "code",
   "execution_count": null,
   "metadata": {
    "pycharm": {
     "is_executing": true
    }
   },
   "outputs": [],
   "source": [
    "display(reviews_eval.head())\n",
    "display(reviews_exp.head())"
   ]
  },
  {
   "cell_type": "code",
   "execution_count": null,
   "metadata": {
    "pycharm": {
     "is_executing": true
    }
   },
   "outputs": [],
   "source": [
    "reviews_annotated = pd.concat([reviews_eval, reviews_exp], ignore_index=True)"
   ]
  },
  {
   "cell_type": "code",
   "execution_count": null,
   "metadata": {
    "pycharm": {
     "is_executing": true
    }
   },
   "outputs": [],
   "source": [
    "reviews_annotated.value_counts('adjudicated')"
   ]
  },
  {
   "cell_type": "code",
   "execution_count": null,
   "metadata": {
    "pycharm": {
     "is_executing": true
    }
   },
   "outputs": [],
   "source": [
    "adjudicated = reviews_annotated[['text', 'adjudicated']].melt(\n",
    "        id_vars=['text'], \n",
    "        value_vars=['adjudicated'], \n",
    "        var_name='adjudicated'\n",
    "    ).rename(\n",
    "        columns={'value': 'label'}\n",
    "    )[['adjudicated', 'label', 'text']]"
   ]
  },
  {
   "cell_type": "code",
   "execution_count": null,
   "metadata": {
    "pycharm": {
     "is_executing": true
    }
   },
   "outputs": [],
   "source": [
    "adjudicated.to_csv('data/adjudicated.txt', sep='\\t', header=False)"
   ]
  },
  {
   "cell_type": "code",
   "execution_count": null,
   "metadata": {
    "pycharm": {
     "is_executing": true
    }
   },
   "outputs": [],
   "source": [
    "individual_annotations = reviews_eval[['text', 'stalebi', 'zhossainzadeh']].reset_index().melt(\n",
    "        id_vars=['index', 'text'],\n",
    "        value_vars=['stalebi', 'zhossainzadeh'],\n",
    "        var_name='annotator'\n",
    "    ).sort_values(\n",
    "        'index', \n",
    "        ignore_index=True\n",
    "    ).rename(\n",
    "        columns={'value': 'label'}\n",
    "    )[['index', 'annotator', 'label', 'text']]"
   ]
  },
  {
   "cell_type": "code",
   "execution_count": null,
   "metadata": {
    "pycharm": {
     "is_executing": true
    }
   },
   "outputs": [],
   "source": [
    "individual_annotations"
   ]
  },
  {
   "cell_type": "code",
   "execution_count": null,
   "metadata": {
    "pycharm": {
     "is_executing": true
    }
   },
   "outputs": [],
   "source": [
    "individual_annotations.to_csv('data/individual_annotations.txt', sep='\\t', index=False, header=False)"
   ]
  },
  {
   "cell_type": "markdown",
   "metadata": {},
   "source": [
    "AP3:"
   ]
  },
  {
   "cell_type": "code",
   "execution_count": null,
   "metadata": {
    "pycharm": {
     "is_executing": true
    }
   },
   "outputs": [],
   "source": [
    "ap3_annotated = pd.read_csv('data/3034029249.txt', sep='\\t')"
   ]
  },
  {
   "cell_type": "code",
   "execution_count": null,
   "metadata": {
    "pycharm": {
     "is_executing": true
    }
   },
   "outputs": [],
   "source": [
    "ap3_annotated"
   ]
  },
  {
   "cell_type": "code",
   "execution_count": null,
   "metadata": {
    "pycharm": {
     "is_executing": true
    }
   },
   "outputs": [],
   "source": [
    "labels_dict = {\n",
    "    1: 'health',\n",
    "    2: 'versatility',\n",
    "    3: 'gourmet experience',\n",
    "    4: 'convenience',\n",
    "    5: 'taste'\n",
    "}"
   ]
  },
  {
   "cell_type": "code",
   "execution_count": null,
   "metadata": {
    "pycharm": {
     "is_executing": true
    },
    "scrolled": true
   },
   "outputs": [],
   "source": [
    "i = 99\n",
    "ap3_annotated.loc[i]['text']"
   ]
  },
  {
   "cell_type": "code",
   "execution_count": null,
   "metadata": {
    "pycharm": {
     "is_executing": true
    }
   },
   "outputs": [],
   "source": [
    "labels_val = [\n",
    "    2,\n",
    "    5,\n",
    "    3,\n",
    "    5,\n",
    "    1,\n",
    "    5,\n",
    "    1,\n",
    "    5,\n",
    "    1,\n",
    "    5,\n",
    "    1,\n",
    "    2,\n",
    "    5,\n",
    "    2,\n",
    "    4,\n",
    "    5,\n",
    "    3,\n",
    "    3,\n",
    "    5,\n",
    "    5,\n",
    "    5,\n",
    "    1,\n",
    "    5,\n",
    "    4,\n",
    "    1,\n",
    "    3,\n",
    "    2,\n",
    "    5,\n",
    "    3,\n",
    "    5,\n",
    "    2,\n",
    "    2,\n",
    "    1,\n",
    "    5,\n",
    "    5,\n",
    "    5,\n",
    "    5,\n",
    "    3,\n",
    "    5,\n",
    "    2,\n",
    "    5,\n",
    "    5,\n",
    "    3,\n",
    "    5,\n",
    "    3,\n",
    "    1,\n",
    "    3,\n",
    "    5,\n",
    "    2,\n",
    "    5,\n",
    "    1,\n",
    "    3,\n",
    "    1,\n",
    "    5,\n",
    "    3,\n",
    "    2,\n",
    "    1,\n",
    "    1,\n",
    "    3,\n",
    "    3,\n",
    "    1,\n",
    "    5,\n",
    "    5,\n",
    "    5,\n",
    "    2,\n",
    "    3,\n",
    "    3,\n",
    "    3,\n",
    "    3,\n",
    "    1,\n",
    "    1,\n",
    "    4,\n",
    "    3,\n",
    "    5,\n",
    "    5,\n",
    "    1,\n",
    "    3,\n",
    "    5,\n",
    "    4,\n",
    "    5,\n",
    "    2,\n",
    "    2,\n",
    "    4,\n",
    "    5,\n",
    "    1,\n",
    "    1,\n",
    "    3,\n",
    "    5,\n",
    "    1,\n",
    "    1,\n",
    "    3,\n",
    "    3,\n",
    "    4,\n",
    "    3,\n",
    "    2,\n",
    "    3,\n",
    "    1,\n",
    "    1,\n",
    "    3,\n",
    "    3\n",
    "]"
   ]
  },
  {
   "cell_type": "code",
   "execution_count": null,
   "metadata": {
    "pycharm": {
     "is_executing": true
    }
   },
   "outputs": [],
   "source": [
    "len(labels_val)"
   ]
  },
  {
   "cell_type": "code",
   "execution_count": null,
   "metadata": {
    "pycharm": {
     "is_executing": true
    }
   },
   "outputs": [],
   "source": [
    "labels = [labels_dict[i] for i in labels_val]\n",
    "labels"
   ]
  },
  {
   "cell_type": "code",
   "execution_count": null,
   "metadata": {
    "pycharm": {
     "is_executing": true
    }
   },
   "outputs": [],
   "source": [
    "ap3_annotated['label'] = pd.Series(labels)\n",
    "ap3_annotated"
   ]
  },
  {
   "cell_type": "code",
   "execution_count": null,
   "metadata": {
    "pycharm": {
     "is_executing": true
    }
   },
   "outputs": [],
   "source": [
    "ap3_annotated.to_csv('data/annotations.txt', sep='\\t', index=False, header=False)"
   ]
  },
  {
   "cell_type": "code",
   "execution_count": null,
   "metadata": {
    "pycharm": {
     "is_executing": true
    }
   },
   "outputs": [],
   "source": [
    "ap3_annotated.query('label == \"gourmet experience\"')"
   ]
  },
  {
   "cell_type": "markdown",
   "metadata": {},
   "source": [
    "AP4:"
   ]
  },
  {
   "cell_type": "code",
   "execution_count": 15,
   "metadata": {},
   "outputs": [],
   "source": [
    "bert_labels = pd.read_csv('data/mistakes_bert.csv', index_col=0)"
   ]
  },
  {
   "cell_type": "code",
   "execution_count": 16,
   "metadata": {},
   "outputs": [],
   "source": [
    "mistakes_bert = bert_labels.query(\"wrong == 1\")"
   ]
  },
  {
   "cell_type": "code",
   "execution_count": 126,
   "metadata": {},
   "outputs": [],
   "source": [
    "mistakes_bert.query('pred == 2 & TRUE == 1')['text'].to_csv('test.csv')"
   ]
  },
  {
   "cell_type": "code",
   "execution_count": 25,
   "metadata": {},
   "outputs": [],
   "source": [
    "correct_bert = bert_labels.query(\"wrong == 0\")"
   ]
  },
  {
   "cell_type": "code",
   "execution_count": 62,
   "metadata": {},
   "outputs": [],
   "source": [
    "bert_labels.query('pred == 1')['text'].to_csv('bert_labels_1.csv')"
   ]
  },
  {
   "cell_type": "code",
   "execution_count": 46,
   "metadata": {},
   "outputs": [
    {
     "name": "stdout",
     "output_type": "stream",
     "text": [
      "Average length of predicted 1s: 14.894736842105264\n",
      "Average length of predicted 2s: 50.12658227848101\n",
      "Average length of predicted 3s: 85.51724137931035\n",
      "Average length of predicted 4s: 126.0\n"
     ]
    }
   ],
   "source": [
    "for i in range(1, 5):\n",
    "    print('Average length of predicted {}s: {}'.format(i, \n",
    "                                                       bert_labels.query('pred == {}'.format(str(i)))['text'].str.split().apply(lambda l: len(l)).mean()))\n"
   ]
  },
  {
   "cell_type": "code",
   "execution_count": 54,
   "metadata": {},
   "outputs": [],
   "source": [
    "def word_count_dict(l):\n",
    "    word_counts = dict()\n",
    "    for word in set(l):\n",
    "        word_counts[word] = l.count(word)\n",
    "    return dict(sorted(word_counts.items(), key=lambda item: item[1], reverse=True))"
   ]
  },
  {
   "cell_type": "code",
   "execution_count": 110,
   "metadata": {
    "scrolled": false
   },
   "outputs": [
    {
     "data": {
      "text/plain": [
       "[('the', 0.06878306878306878),\n",
       " ('and', 0.03527336860670194),\n",
       " ('of', 0.031746031746031744),\n",
       " ('i', 0.029982363315696647),\n",
       " ('a', 0.023809523809523808),\n",
       " ('to', 0.01984126984126984),\n",
       " ('in', 0.01895943562610229),\n",
       " ('is', 0.01763668430335097),\n",
       " ('this', 0.015873015873015872),\n",
       " ('that', 0.013227513227513227),\n",
       " ('it', 0.012786596119929453),\n",
       " ('for', 0.010141093474426807),\n",
       " ('as', 0.010141093474426807),\n",
       " ('was', 0.009700176366843033),\n",
       " ('book', 0.009259259259259259),\n",
       " ('with', 0.00837742504409171),\n",
       " ('but', 0.006613756613756613),\n",
       " ('my', 0.006172839506172839),\n",
       " ('so', 0.005291005291005291),\n",
       " ('or', 0.005291005291005291),\n",
       " ('really', 0.005291005291005291),\n",
       " ('me', 0.0048500881834215165),\n",
       " ('one', 0.0048500881834215165),\n",
       " ('like', 0.0048500881834215165),\n",
       " ('have', 0.004409171075837742),\n",
       " ('much', 0.004409171075837742),\n",
       " ('are', 0.004409171075837742),\n",
       " ('story', 0.003968253968253968),\n",
       " ('up', 0.003968253968253968),\n",
       " ('about', 0.003527336860670194),\n",
       " ('there', 0.003527336860670194),\n",
       " ('characters', 0.003527336860670194),\n",
       " ('how', 0.003527336860670194),\n",
       " ('very', 0.003527336860670194),\n",
       " ('her', 0.003527336860670194),\n",
       " ('read', 0.0030864197530864196),\n",
       " ('time', 0.0030864197530864196),\n",
       " ('an', 0.0030864197530864196),\n",
       " ('books', 0.0030864197530864196),\n",
       " ('all', 0.0030864197530864196),\n",
       " ('at', 0.0026455026455026454),\n",
       " ('too', 0.0026455026455026454),\n",
       " ('plot', 0.0026455026455026454),\n",
       " (\"i'm\", 0.0026455026455026454),\n",
       " ('because', 0.0026455026455026454),\n",
       " ('reading', 0.0026455026455026454),\n",
       " ('when', 0.0026455026455026454),\n",
       " ('series', 0.0026455026455026454),\n",
       " ('just', 0.0026455026455026454),\n",
       " ('well', 0.0026455026455026454)]"
      ]
     },
     "execution_count": 110,
     "metadata": {},
     "output_type": "execute_result"
    }
   ],
   "source": [
    "wc_dicts = bert_labels.query('pred == 4')['text'].str.lower().str.split().apply(word_count_dict)\n",
    "\n",
    "word_count_all = dict()\n",
    "words_all = 0\n",
    "for wc_dict in wc_dicts:\n",
    "    for word in wc_dict:\n",
    "        if word in stop\n",
    "        if word not in word_count_all.keys():\n",
    "            word_count_all[word] = wc_dict[word]\n",
    "        else:\n",
    "            word_count_all[word] += wc_dict[word]\n",
    "        words_all += wc_dict[word]\n",
    "\n",
    "word_count_all = {word: count / words_all for word, count in word_count_all.items()}\n",
    "            \n",
    "word_count_all = dict(sorted(word_count_all.items(), key=lambda item: item[1], reverse=True))\n",
    "list(word_count_all.items())[:50]"
   ]
  },
  {
   "cell_type": "code",
   "execution_count": 76,
   "metadata": {},
   "outputs": [],
   "source": []
  },
  {
   "cell_type": "code",
   "execution_count": null,
   "metadata": {},
   "outputs": [],
   "source": []
  }
 ],
 "metadata": {
  "kernelspec": {
   "display_name": "PyCharm (q1)",
   "language": "python",
   "name": "pycharm-3e22716c"
  },
  "language_info": {
   "codemirror_mode": {
    "name": "ipython",
    "version": 3
   },
   "file_extension": ".py",
   "mimetype": "text/x-python",
   "name": "python",
   "nbconvert_exporter": "python",
   "pygments_lexer": "ipython3",
   "version": "3.7.3"
  }
 },
 "nbformat": 4,
 "nbformat_minor": 1
}