{
 "cells": [
  {
   "cell_type": "code",
   "execution_count": 4,
   "metadata": {},
   "outputs": [],
   "source": [
    "import gzip\n",
    "import requests\n",
    "import random\n",
    "import pandas as pd"
   ]
  },
  {
   "cell_type": "markdown",
   "metadata": {},
   "source": [
    "r/news:"
   ]
  },
  {
   "cell_type": "code",
   "execution_count": 5,
   "metadata": {},
   "outputs": [],
   "source": [
    "sub = 'news'\n",
    "size = 500\n",
    "after = [1615766400, # March 15, 2021 12:00:00 AM GMT\n",
    "         1611964800, # January 30, 2021 12:00:00 AM GMT\n",
    "         1626566400, # July 18, 2021 12:00:00 AM GMT\n",
    "         1609891200, # January 6, 2021 12:00:00 AM GMT\n",
    "         1616198400, # March 20, 2021 12:00:00 AM GMT\n",
    "         1637452800, # November 21, 2021 12:00:00 AM GMT\n",
    "         1634774400, # October 21, 2021 12:00:00 AM GMT\n",
    "         1640390400, # December 25, 2021 12:00:00 AM GMT\n",
    "         1627516800, # July 29, 2021 12:00:00 AM GMT\n",
    "         1628380800, # August 8, 2021 12:00:00 AM GMT\n",
    "         1626220800, # July 14, 2021 12:00:00 AM GMT\n",
    "         1610582400, # January 14, 2021 12:00:00 AM GMT\n",
    "         1613779200, # February 20, 2021 12:00:00 AM GMT\n",
    "         1618704000, # April 18, 2021 12:00:00 AM GMT\n",
    "         1636156800 # November 6, 2021 12:00:00 AM GMT\n",
    "         ]"
   ]
  },
  {
   "cell_type": "code",
   "execution_count": null,
   "metadata": {
    "pycharm": {
     "is_executing": true
    }
   },
   "outputs": [],
   "source": [
    "rnews = pd.DataFrame(columns=['body'])\n",
    "\n",
    "for epoch in after:\n",
    "    url = f'https://api.pushshift.io/reddit/search/comment/?fields=body&subreddit={sub}&size={size}&after={epoch}'\n",
    "    rnews = pd.concat([rnews, pd.DataFrame.from_dict(requests.get(url).json()['data'])], ignore_index=True)"
   ]
  },
  {
   "cell_type": "code",
   "execution_count": null,
   "metadata": {
    "pycharm": {
     "is_executing": true
    }
   },
   "outputs": [],
   "source": [
    "rnews"
   ]
  },
  {
   "cell_type": "code",
   "execution_count": null,
   "metadata": {
    "pycharm": {
     "is_executing": true
    }
   },
   "outputs": [],
   "source": [
    "rnews_notdel = rnews.query('body not in [\"[removed]\", \"[deleted]\"]').reset_index().drop(columns=['index'])\n",
    "rnews_notdel"
   ]
  },
  {
   "cell_type": "code",
   "execution_count": null,
   "metadata": {
    "pycharm": {
     "is_executing": true
    }
   },
   "outputs": [],
   "source": [
    "compression_opts = dict(method='zip',\n",
    "                        archive_name='rnews_data.csv')\n",
    "rnews_notdel.to_csv('rnews_data.zip', index=False, compression=compression_opts)"
   ]
  },
  {
   "cell_type": "code",
   "execution_count": null,
   "metadata": {
    "collapsed": true,
    "pycharm": {
     "is_executing": true
    }
   },
   "outputs": [],
   "source": [
    "rnews = pd.read_csv('rnews_data.csv')\n",
    "rnews"
   ]
  },
  {
   "cell_type": "code",
   "execution_count": null,
   "metadata": {
    "pycharm": {
     "is_executing": true
    }
   },
   "outputs": [],
   "source": [
    "random.seed(1)\n",
    "n = rnews.shape[0]\n",
    "indices = random.sample(range(n), 30)\n",
    "rnews.iloc[indices].to_csv('rnews_sample30.txt', index=False)"
   ]
  },
  {
   "cell_type": "markdown",
   "metadata": {},
   "source": [
    "Amazon book reviews:"
   ]
  },
  {
   "cell_type": "code",
   "execution_count": 8,
   "metadata": {
    "pycharm": {
     "is_executing": true
    }
   },
   "outputs": [],
   "source": [
    "with gzip.open('Kindle_Store_5.json.gz', 'rb') as f:\n",
    "    reviews_df = pd.read_json(f, orient='records', lines=True)"
   ]
  },
  {
   "cell_type": "code",
   "execution_count": 12,
   "metadata": {
    "collapsed": true,
    "pycharm": {
     "is_executing": true
    }
   },
   "outputs": [
    {
     "data": {
      "text/html": [
       "<div>\n",
       "<style scoped>\n",
       "    .dataframe tbody tr th:only-of-type {\n",
       "        vertical-align: middle;\n",
       "    }\n",
       "\n",
       "    .dataframe tbody tr th {\n",
       "        vertical-align: top;\n",
       "    }\n",
       "\n",
       "    .dataframe thead th {\n",
       "        text-align: right;\n",
       "    }\n",
       "</style>\n",
       "<table border=\"1\" class=\"dataframe\">\n",
       "  <thead>\n",
       "    <tr style=\"text-align: right;\">\n",
       "      <th></th>\n",
       "      <th>reviewText</th>\n",
       "    </tr>\n",
       "  </thead>\n",
       "  <tbody>\n",
       "    <tr>\n",
       "      <th>563564</th>\n",
       "      <td>I thought the story had great promise. I even ...</td>\n",
       "    </tr>\n",
       "    <tr>\n",
       "      <th>264689</th>\n",
       "      <td>GREAT BOOK, so much options, For those new to ...</td>\n",
       "    </tr>\n",
       "    <tr>\n",
       "      <th>1069837</th>\n",
       "      <td>This was an amazing read  . SORRY AINT ENOUGH ...</td>\n",
       "    </tr>\n",
       "    <tr>\n",
       "      <th>494586</th>\n",
       "      <td>Niles had closed himself off to love and conne...</td>\n",
       "    </tr>\n",
       "    <tr>\n",
       "      <th>2078005</th>\n",
       "      <td>I loved this book. I loved Suvi from the begin...</td>\n",
       "    </tr>\n",
       "    <tr>\n",
       "      <th>...</th>\n",
       "      <td>...</td>\n",
       "    </tr>\n",
       "    <tr>\n",
       "      <th>1169176</th>\n",
       "      <td>**ARC provided by author in exchange for an ho...</td>\n",
       "    </tr>\n",
       "    <tr>\n",
       "      <th>750955</th>\n",
       "      <td>Thank you so much. My 2 years in Bavarian in t...</td>\n",
       "    </tr>\n",
       "    <tr>\n",
       "      <th>2012061</th>\n",
       "      <td>I am a big fan of Genealogical Research.  I ha...</td>\n",
       "    </tr>\n",
       "    <tr>\n",
       "      <th>199963</th>\n",
       "      <td>This is a stilted, contrived story. I was disa...</td>\n",
       "    </tr>\n",
       "    <tr>\n",
       "      <th>898503</th>\n",
       "      <td>Mr. Fowler has done it again. Excellent story....</td>\n",
       "    </tr>\n",
       "  </tbody>\n",
       "</table>\n",
       "<p>1000 rows × 1 columns</p>\n",
       "</div>"
      ],
      "text/plain": [
       "                                                reviewText\n",
       "563564   I thought the story had great promise. I even ...\n",
       "264689   GREAT BOOK, so much options, For those new to ...\n",
       "1069837  This was an amazing read  . SORRY AINT ENOUGH ...\n",
       "494586   Niles had closed himself off to love and conne...\n",
       "2078005  I loved this book. I loved Suvi from the begin...\n",
       "...                                                    ...\n",
       "1169176  **ARC provided by author in exchange for an ho...\n",
       "750955   Thank you so much. My 2 years in Bavarian in t...\n",
       "2012061  I am a big fan of Genealogical Research.  I ha...\n",
       "199963   This is a stilted, contrived story. I was disa...\n",
       "898503   Mr. Fowler has done it again. Excellent story....\n",
       "\n",
       "[1000 rows x 1 columns]"
      ]
     },
     "execution_count": 12,
     "metadata": {},
     "output_type": "execute_result"
    }
   ],
   "source": [
    "random.seed(1)\n",
    "reviews_data = reviews_df[['reviewText']].iloc[random.sample(range(reviews_df.shape[0]), 1000)]\n",
    "reviews_data"
   ]
  },
  {
   "cell_type": "code",
   "execution_count": 13,
   "metadata": {},
   "outputs": [],
   "source": [
    "compression_opts = dict(method='zip',\n",
    "                        archive_name='reviews_data.csv')\n",
    "reviews_data.to_csv('reviews_data.zip', index=False, compression=compression_opts)"
   ]
  },
  {
   "cell_type": "code",
   "execution_count": 19,
   "metadata": {},
   "outputs": [],
   "source": [
    "random.seed(1)\n",
    "reviews_data.reset_index().drop(\n",
    "        columns=['index']\n",
    "    ).iloc[random.sample(range(1000), 20)].to_csv(\n",
    "        'reviews_sample30.csv', index=False\n",
    "    )"
   ]
  },
  {
   "cell_type": "code",
   "execution_count": null,
   "metadata": {},
   "outputs": [],
   "source": []
  }
 ],
 "metadata": {
  "kernelspec": {
   "display_name": "Python 3 (ipykernel)",
   "language": "python",
   "name": "python3"
  },
  "language_info": {
   "codemirror_mode": {
    "name": "ipython",
    "version": 3
   },
   "file_extension": ".py",
   "mimetype": "text/x-python",
   "name": "python",
   "nbconvert_exporter": "python",
   "pygments_lexer": "ipython3",
   "version": "3.7.3"
  }
 },
 "nbformat": 4,
 "nbformat_minor": 1
}